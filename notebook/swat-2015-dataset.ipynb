{
 "cells": [
  {
   "cell_type": "code",
   "execution_count": 1,
   "metadata": {},
   "outputs": [],
   "source": [
    "# Packages\n",
    "import numpy as np\n",
    "from torch.utils.data import Dataset, DataLoader"
   ]
  },
  {
   "cell_type": "code",
   "execution_count": 2,
   "metadata": {},
   "outputs": [],
   "source": [
    "\n",
    "# Define dataset class\n",
    "class SwatDataset(Dataset):\n",
    "    ''' Dataset class generator on SWaT dataset.\n",
    "    \n",
    "    Args:\n",
    "        - path: <str> preprocessed dataset numpy file path\n",
    "        - feature_idx: <list<int>> choose features you want to use by index\n",
    "        - start_idx: <int> choose period you want to use by index\n",
    "        - end_idx: <int> choose period you want to use by index\n",
    "        - windows_size: <int> history length you want to use\n",
    "        - sliding: <int> history window moving step\n",
    "    '''\n",
    "\n",
    "    def __init__(self, path,\n",
    "                 feature_idx: list,\n",
    "                 start_idx: int, \n",
    "                 end_idx: int, \n",
    "                 windows_size: int,\n",
    "                 sliding:int=1):\n",
    "        data = np.load(path, allow_pickle=True).take(feature_idx, axis=1)[start_idx:end_idx]\n",
    "        self.data = data\n",
    "        self.windows_size = windows_size\n",
    "        self.sliding = sliding\n",
    "\n",
    "    def __len__(self):\n",
    "        return int((self.data.shape[0] - self.windows_size) / self.sliding) - 1\n",
    "\n",
    "    def __getitem__(self, index):\n",
    "        '''\n",
    "        Returns:\n",
    "            input: <np.array> [num_feature, windows_size]\n",
    "            output: <np.array> [num_feature]\n",
    "        '''\n",
    "        start = index * self.sliding\n",
    "        end = index * self.sliding + self.windows_size\n",
    "        return self.data[start:end, :], self.data[end + 1, :]"
   ]
  },
  {
   "cell_type": "code",
   "execution_count": 3,
   "metadata": {},
   "outputs": [
    {
     "name": "stdout",
     "output_type": "stream",
     "text": [
      "Dataset Length: 78\n",
      "Input shape: (100, 3)\n",
      "Target shape: (3,)\n",
      "Batched Input shape: torch.Size([32, 100, 3])\n",
      "Batched Target shape: torch.Size([32, 3])\n"
     ]
    }
   ],
   "source": [
    "# Simple test the dataset\n",
    "# For convinent, we already transfer the data file to numpy file\n",
    "# with the shape of [449919, 53]\n",
    "dataset = SwatDataset(\n",
    "    path='../data/swat-2015-data.npy',\n",
    "    feature_idx=[0, 1, 2], \n",
    "    start_idx=1000,\n",
    "    end_idx=9000, \n",
    "    windows_size=100,\n",
    "    sliding=100\n",
    ")\n",
    "dataloader = DataLoader(dataset, batch_size=32, shuffle=True)\n",
    "\n",
    "# Get a data sample\n",
    "inp, tar = dataset.__getitem__(0)\n",
    "batch_inp, batch_tar = next(iter(dataloader))\n",
    "\n",
    "print(f'Dataset Length: {len(dataset)}')\n",
    "print(f'Input shape: {inp.shape}')\n",
    "print(f'Target shape: {tar.shape}')\n",
    "print(f'Batched Input shape: {batch_inp.size()}')\n",
    "print(f'Batched Target shape: {batch_tar.size()}')"
   ]
  }
 ],
 "metadata": {
  "kernelspec": {
   "display_name": "Python 3.9.7 ('py9')",
   "language": "python",
   "name": "python3"
  },
  "language_info": {
   "codemirror_mode": {
    "name": "ipython",
    "version": 3
   },
   "file_extension": ".py",
   "mimetype": "text/x-python",
   "name": "python",
   "nbconvert_exporter": "python",
   "pygments_lexer": "ipython3",
   "version": "3.9.7"
  },
  "orig_nbformat": 4,
  "vscode": {
   "interpreter": {
    "hash": "6351584294848f066da2286fc4d9a9ed603fafa7b7f7c385316cfa51841525d1"
   }
  }
 },
 "nbformat": 4,
 "nbformat_minor": 2
}
